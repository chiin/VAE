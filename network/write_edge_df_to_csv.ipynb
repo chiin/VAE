{
 "cells": [
  {
   "cell_type": "code",
   "execution_count": 1,
   "id": "f18baa4e-d391-4a01-a068-f3ad80fedf55",
   "metadata": {},
   "outputs": [],
   "source": [
    "import pandas as pd\n",
    "import numpy as np\n",
    "\n",
    "import hansard\n"
   ]
  },
  {
   "cell_type": "code",
   "execution_count": 2,
   "id": "4ea13967-f1e5-415d-a22c-932fa66b9f79",
   "metadata": {},
   "outputs": [],
   "source": [
    "target_year = 1895"
   ]
  },
  {
   "cell_type": "code",
   "execution_count": 3,
   "id": "ea5a9e68-d719-47f7-b5ca-11504cb98f33",
   "metadata": {},
   "outputs": [],
   "source": [
    "edge_df = hansard.build_edge_df(target_year=target_year)\n",
    "edge_df.to_csv(\"edge_df_\" + str(target_year) + \".csv\")"
   ]
  }
 ],
 "metadata": {
  "kernelspec": {
   "display_name": "Python 3 (ipykernel)",
   "language": "python",
   "name": "python3"
  },
  "language_info": {
   "codemirror_mode": {
    "name": "ipython",
    "version": 3
   },
   "file_extension": ".py",
   "mimetype": "text/x-python",
   "name": "python",
   "nbconvert_exporter": "python",
   "pygments_lexer": "ipython3",
   "version": "3.9.5"
  }
 },
 "nbformat": 4,
 "nbformat_minor": 5
}
